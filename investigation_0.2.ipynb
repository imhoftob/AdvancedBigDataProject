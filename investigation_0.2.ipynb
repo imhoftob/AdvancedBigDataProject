{
 "cells": [
  {
   "cell_type": "code",
   "execution_count": 1,
   "metadata": {},
   "outputs": [],
   "source": [
    "import pandas as pd\n",
    "import matplotlib.pyplot as plt\n"
   ]
  },
  {
   "cell_type": "code",
   "execution_count": null,
   "metadata": {},
   "outputs": [],
   "source": [
    "fpath = f'scrubbed.csv'\n",
    "colnames = [\n",
    "        'datetime',\n",
    "        'city',\n",
    "        'state',\n",
    "        'country',\n",
    "        'shape',\n",
    "        'duration',\n",
    "        'duration (hours/min)',\n",
    "        'comments',\n",
    "        'date posted',\n",
    "        'latitude',\n",
    "        'longitude',\n",
    "        'empty'\n",
    "    ]\n",
    "\n",
    "with open(fpath,'r') as file:\n",
    "    df = pd.read_csv(file, names=colnames, skiprows=1)\n",
    "\n",
    "to_drop = [\n",
    "    'empty', \n",
    "    'duration (hours/min)', \n",
    "    'date posted'\n",
    "]\n",
    "df.drop(labels=to_drop, axis=1, inplace = True)\n",
    "df.head()"
   ]
  },
  {
   "cell_type": "code",
   "execution_count": 3,
   "metadata": {},
   "outputs": [],
   "source": [
    "for row, cols in df.iterrows():\n",
    "    if '24:00' in cols['datetime']:\n",
    "        df.loc[row, 'datetime'] = cols['datetime'].replace('24:00', '00:00')\n",
    "\n",
    "df['datetime'] = pd.to_datetime(df['datetime'])\n"
   ]
  },
  {
   "cell_type": "code",
   "execution_count": null,
   "metadata": {},
   "outputs": [],
   "source": [
    "columns = [df[col].name for col in df.keys()]\n",
    "columns"
   ]
  },
  {
   "cell_type": "code",
   "execution_count": null,
   "metadata": {},
   "outputs": [],
   "source": [
    "def check_NA(dataframe: pd.DataFrame) -> None:\n",
    "    NAs = [sum(df[col].isna()) for col in df[columns]]\n",
    "    missing_values = zip(columns, NAs)\n",
    "    print(dict([j for j in missing_values]))\n",
    "    \n",
    "check_NA(df)"
   ]
  },
  {
   "cell_type": "code",
   "execution_count": 6,
   "metadata": {},
   "outputs": [],
   "source": [
    "vsel = df['state'].isna()\n",
    "df.loc[vsel, 'state'] = 'None'"
   ]
  },
  {
   "cell_type": "code",
   "execution_count": 7,
   "metadata": {},
   "outputs": [],
   "source": [
    "vsel = df['comments'].isna()\n",
    "df.loc[vsel, 'comments'] = 'None'"
   ]
  },
  {
   "cell_type": "code",
   "execution_count": 8,
   "metadata": {},
   "outputs": [],
   "source": [
    "vsel = df['shape'].isna()\n",
    "df.loc[vsel, 'shape'] = 'None'"
   ]
  },
  {
   "cell_type": "code",
   "execution_count": null,
   "metadata": {},
   "outputs": [],
   "source": [
    "df.dropna(axis=0, inplace=True)\n",
    "check_NA(df)"
   ]
  },
  {
   "cell_type": "code",
   "execution_count": 14,
   "metadata": {},
   "outputs": [],
   "source": [
    "df['year'] = df['datetime'].dt.year\n",
    "country_year_counts = df.groupby(['country', 'year']).size().unstack(fill_value=0)"
   ]
  },
  {
   "cell_type": "code",
   "execution_count": null,
   "metadata": {},
   "outputs": [],
   "source": [
    "# Plotten\n",
    "country_year_counts.T.plot(kind='line', marker='')\n",
    "plt.title('Datenpunkte pro Jahr und Stadt')\n",
    "plt.xlabel('Jahr')\n",
    "plt.ylabel('Anzahl der Datenpunkte')\n",
    "plt.legend(title='Stadt')\n",
    "plt.show()"
   ]
  },
  {
   "cell_type": "code",
   "execution_count": 24,
   "metadata": {},
   "outputs": [],
   "source": [
    "from sklearn.cluster import DBSCAN\n",
    "import pandas as pd\n",
    "from geopy.distance import great_circle\n",
    "\n",
    "# Beispiel für geografisches Clustering (DBSCAN)\n",
    "coords = df[['latitude', 'longitude']].values\n",
    "db = DBSCAN(eps=0.5, min_samples=2, metric=lambda x, y: great_circle(x, y).meters).fit(coords)\n",
    "df['geo_cluster'] = db.labels_"
   ]
  },
  {
   "cell_type": "code",
   "execution_count": 64,
   "metadata": {},
   "outputs": [
    {
     "data": {
      "text/html": [
       "<div>\n",
       "<style scoped>\n",
       "    .dataframe tbody tr th:only-of-type {\n",
       "        vertical-align: middle;\n",
       "    }\n",
       "\n",
       "    .dataframe tbody tr th {\n",
       "        vertical-align: top;\n",
       "    }\n",
       "\n",
       "    .dataframe thead th {\n",
       "        text-align: right;\n",
       "    }\n",
       "</style>\n",
       "<table border=\"1\" class=\"dataframe\">\n",
       "  <thead>\n",
       "    <tr style=\"text-align: right;\">\n",
       "      <th></th>\n",
       "      <th>latitude</th>\n",
       "      <th>longitude</th>\n",
       "      <th>geo_cluster</th>\n",
       "    </tr>\n",
       "  </thead>\n",
       "  <tbody>\n",
       "    <tr>\n",
       "      <th>0</th>\n",
       "      <td>29.8830556</td>\n",
       "      <td>-97.941111</td>\n",
       "      <td>0</td>\n",
       "    </tr>\n",
       "    <tr>\n",
       "      <th>2</th>\n",
       "      <td>53.2</td>\n",
       "      <td>-2.916667</td>\n",
       "      <td>1</td>\n",
       "    </tr>\n",
       "    <tr>\n",
       "      <th>3</th>\n",
       "      <td>28.9783333</td>\n",
       "      <td>-96.645833</td>\n",
       "      <td>2</td>\n",
       "    </tr>\n",
       "    <tr>\n",
       "      <th>4</th>\n",
       "      <td>21.4180556</td>\n",
       "      <td>-157.803611</td>\n",
       "      <td>3</td>\n",
       "    </tr>\n",
       "    <tr>\n",
       "      <th>5</th>\n",
       "      <td>36.5950000</td>\n",
       "      <td>-82.188889</td>\n",
       "      <td>4</td>\n",
       "    </tr>\n",
       "  </tbody>\n",
       "</table>\n",
       "</div>"
      ],
      "text/plain": [
       "     latitude   longitude  geo_cluster\n",
       "0  29.8830556  -97.941111            0\n",
       "2        53.2   -2.916667            1\n",
       "3  28.9783333  -96.645833            2\n",
       "4  21.4180556 -157.803611            3\n",
       "5  36.5950000  -82.188889            4"
      ]
     },
     "execution_count": 64,
     "metadata": {},
     "output_type": "execute_result"
    }
   ],
   "source": [
    "UFOs = df[['latitude', 'longitude', 'geo_cluster']]\n",
    "UFOs.head()"
   ]
  },
  {
   "cell_type": "code",
   "execution_count": 92,
   "metadata": {},
   "outputs": [],
   "source": [
    "coords = []\n",
    "for row, cols in UFOs.iterrows():\n",
    "    coord = [float(UFOs.loc[row,'latitude']), float(UFOs.loc[row,'longitude']), UFOs.loc[row,'geo_cluster']]\n",
    "    coords.append(coord)\n"
   ]
  },
  {
   "cell_type": "code",
   "execution_count": 95,
   "metadata": {},
   "outputs": [
    {
     "data": {
      "text/plain": [
       "latitude       70662\n",
       "longitude      70662\n",
       "geo_cluster    70662\n",
       "dtype: int64"
      ]
     },
     "execution_count": 95,
     "metadata": {},
     "output_type": "execute_result"
    }
   ],
   "source": [
    "UFOs.count()"
   ]
  },
  {
   "cell_type": "code",
   "execution_count": 101,
   "metadata": {},
   "outputs": [
    {
     "data": {
      "text/plain": [
       "geo_cluster\n",
       "-1       6464\n",
       " 0         21\n",
       " 1          3\n",
       " 2          3\n",
       " 3         12\n",
       "         ... \n",
       " 7923       2\n",
       " 7924       2\n",
       " 7925       2\n",
       " 7926       2\n",
       " 7927       2\n",
       "Length: 7929, dtype: int64"
      ]
     },
     "execution_count": 101,
     "metadata": {},
     "output_type": "execute_result"
    }
   ],
   "source": [
    "UFOs.groupby('geo_cluster').size()"
   ]
  },
  {
   "cell_type": "code",
   "execution_count": 65,
   "metadata": {},
   "outputs": [
    {
     "ename": "ValueError",
     "evalue": "too many values to unpack (expected 3)",
     "output_type": "error",
     "traceback": [
      "\u001b[0;31m---------------------------------------------------------------------------\u001b[0m",
      "\u001b[0;31mValueError\u001b[0m                                Traceback (most recent call last)",
      "Cell \u001b[0;32mIn[65], line 14\u001b[0m\n\u001b[1;32m     11\u001b[0m \u001b[38;5;66;03m# Karte erstellen\u001b[39;00m\n\u001b[1;32m     12\u001b[0m cmap \u001b[38;5;241m=\u001b[39m folium\u001b[38;5;241m.\u001b[39mMap(location\u001b[38;5;241m=\u001b[39mcenter, zoom_start\u001b[38;5;241m=\u001b[39mzoom, tiles\u001b[38;5;241m=\u001b[39mtiles)\n\u001b[0;32m---> 14\u001b[0m gdf \u001b[38;5;241m=\u001b[39m gpd\u001b[38;5;241m.\u001b[39mGeoDataFrame(geometry\u001b[38;5;241m=\u001b[39m[Point(lon, lat) \u001b[38;5;28;01mfor\u001b[39;00m lat, lon, cluster \u001b[38;5;129;01min\u001b[39;00m UFOs])\n\u001b[1;32m     16\u001b[0m \u001b[38;5;66;03m# Linie hinzufügen, die alle Punkte verbindet\u001b[39;00m\n\u001b[1;32m     17\u001b[0m \n\u001b[1;32m     18\u001b[0m \u001b[38;5;66;03m# Marker mit Geschwindigkeit farblich codieren\u001b[39;00m\n\u001b[1;32m     19\u001b[0m \u001b[38;5;28;01mfor\u001b[39;00m lat, lon, cluster \u001b[38;5;129;01min\u001b[39;00m UFOs:\n",
      "\u001b[0;31mValueError\u001b[0m: too many values to unpack (expected 3)"
     ]
    }
   ],
   "source": [
    "import folium\n",
    "import geopandas as gpd\n",
    "from shapely.geometry import Point\n",
    "\n",
    "\n",
    "# Startpunkt für die Karte\n",
    "center = [30, -80]\n",
    "zoom = 2\n",
    "tiles = 'cartodb positron'\n",
    "\n",
    "# Karte erstellen\n",
    "cmap = folium.Map(location=center, zoom_start=zoom, tiles=tiles)\n",
    "\n",
    "gdf = gpd.GeoDataFrame(geometry=[Point(lon, lat) for lat, lon, cluster in UFOs.iterrows()])\n",
    "\n",
    "# Linie hinzufügen, die alle Punkte verbindet\n",
    "for row, cols in UFOs.groupby(['country', 'year']).iterrows():\n",
    "    folium.PolyLine(, weight=2.5, opacity=0.8).add_to(cmap)\n",
    "\n",
    "# Marker mit Geschwindigkeit farblich codieren\n",
    "for lat, lon, cluster in coords:\n",
    "    folium.CircleMarker(\n",
    "        location=[lat, lon],\n",
    "        radius=6,\n",
    "        color=color,\n",
    "        fill=True,\n",
    "        fill_color=color,\n",
    "        fill_opacity=0.7,\n",
    "        popup=f\"Speed: {speed} km/h\"\n",
    "    ).add_to(cmap)\n",
    "\n",
    "# Karte speichern\n",
    "cmap\n"
   ]
  }
 ],
 "metadata": {
  "kernelspec": {
   "display_name": "CAS_Machine_Learnng",
   "language": "python",
   "name": "python3"
  },
  "language_info": {
   "codemirror_mode": {
    "name": "ipython",
    "version": 3
   },
   "file_extension": ".py",
   "mimetype": "text/x-python",
   "name": "python",
   "nbconvert_exporter": "python",
   "pygments_lexer": "ipython3",
   "version": "3.12.5"
  }
 },
 "nbformat": 4,
 "nbformat_minor": 2
}
